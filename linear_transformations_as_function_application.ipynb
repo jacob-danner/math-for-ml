{
 "cells": [
  {
   "cell_type": "code",
   "execution_count": 1,
   "metadata": {
    "id": "vhKAXB98ID0N"
   },
   "outputs": [],
   "source": [
    "import torch\n",
    "from functools import partial\n",
    "\n",
    "show = partial(print, sep=\"\\n\", end=\"\\n\\n\")"
   ]
  },
  {
   "cell_type": "markdown",
   "metadata": {
    "id": "U5HX8D85ID0O"
   },
   "source": [
    "## Linear Transformations are Function Application (conceptually)\n",
    "\n",
    "Vector-Matrix multiplication and Matrix-Matrix multiplication are linear transformations. This notebook explores linear transformations through the lens of function application and list indexing - concepts programmers have intuition about - with the goal of making the topic more approachable and concrete.\n",
    "\n",
    "This perspective is highly relevant because linear transformations underpin neural networks, and understanding them as \"functions\" can demystify how models process data."
   ]
  },
  {
   "cell_type": "markdown",
   "metadata": {
    "id": "GvUHYvT4ID0O"
   },
   "source": [
    "### Vector-Matrix Multiplication is Function Application\n",
    "\n",
    "(N,) @ (N, K) => (K,)\n",
    "\n",
    "f @ X == f(X)\n",
    "\n",
    "Where:\n",
    "- f is a row vector (shape (N,))\n",
    "- X is a matrix (shape (N, K))\n",
    "\n",
    "f acts on the columns of X"
   ]
  },
  {
   "cell_type": "code",
   "execution_count": 2,
   "metadata": {
    "id": "M51nZ3e5ID0O"
   },
   "outputs": [],
   "source": [
    "torch.manual_seed(0)\n",
    "\n",
    "X = torch.randint(0, 10, (3, 3))"
   ]
  },
  {
   "cell_type": "code",
   "execution_count": 3,
   "metadata": {
    "colab": {
     "base_uri": "https://localhost:8080/"
    },
    "id": "9elUC28pID0P",
    "outputId": "c7c25a34-4ddf-4c52-f800-1b0ede2c84d6"
   },
   "outputs": [
    {
     "name": "stdout",
     "output_type": "stream",
     "text": [
      "X:\n",
      "tensor([[4, 9, 3],\n",
      "        [0, 3, 9],\n",
      "        [7, 3, 7]])\n",
      "\n",
      "f1 @ X:\n",
      "tensor([4, 9, 3])\n",
      "\n"
     ]
    }
   ],
   "source": [
    "\"\"\"\n",
    "What if I want to select the first row of a matrix?\n",
    "\n",
    "That can be expressed as:\n",
    "- Selecting the first row\n",
    "- Selecting the first element of each column\n",
    "\n",
    "Vector-Matrix multiplication frames the problem in the second way.\n",
    "\n",
    "The following are equivalent:\n",
    "- \"Return the first row of the matrix\"\n",
    "- For each column, returns its 0th element\n",
    "    - More accurately: (1 * col[0]) + (0 * col[1]) + (0 * col[2])\n",
    "\"\"\"\n",
    "\n",
    "f1 = torch.tensor([1, 0, 0])\n",
    "\n",
    "result = f1 @ X\n",
    "\n",
    "show(\"X:\", X)\n",
    "show(\"f1 @ X:\", result)"
   ]
  },
  {
   "cell_type": "code",
   "execution_count": 4,
   "metadata": {
    "colab": {
     "base_uri": "https://localhost:8080/"
    },
    "id": "8X3-rkmuID0P",
    "outputId": "d3e3912c-93e9-4504-8110-4f45a47068f0"
   },
   "outputs": [
    {
     "name": "stdout",
     "output_type": "stream",
     "text": [
      "X:\n",
      "tensor([[4, 9, 3],\n",
      "        [0, 3, 9],\n",
      "        [7, 3, 7]])\n",
      "\n",
      "f2 @ X:\n",
      "tensor([0, 3, 9])\n",
      "\n"
     ]
    }
   ],
   "source": [
    "\"\"\"\n",
    "What if I want to select the second row of a matrix?\n",
    "\n",
    "This can be expressed as:\n",
    "- Selecting the second row directly\n",
    "- Selecting the second element from each column\n",
    "\n",
    "Vector-Matrix multiplication frames it as the second approach.\n",
    "\n",
    "The following are equivalent:\n",
    "- \"Return the second row of the matrix\"\n",
    "- For each column, return its 1st element\n",
    "    - More accurately: (0 * col[0]) + (1 * col[1]) + (0 * col[2])\n",
    "\"\"\"\n",
    "\n",
    "f2 = torch.tensor([0, 1, 0])\n",
    "\n",
    "result = f2 @ X\n",
    "\n",
    "show(\"X:\", X)\n",
    "show(\"f2 @ X:\", result)"
   ]
  },
  {
   "cell_type": "code",
   "execution_count": 5,
   "metadata": {
    "colab": {
     "base_uri": "https://localhost:8080/"
    },
    "id": "KQoUr21dID0P",
    "outputId": "7bfacf9a-66a4-4721-923f-d9e162da51d2"
   },
   "outputs": [
    {
     "name": "stdout",
     "output_type": "stream",
     "text": [
      "X:\n",
      "tensor([[4, 9, 3],\n",
      "        [0, 3, 9],\n",
      "        [7, 3, 7]])\n",
      "\n",
      "f3 @ X:\n",
      "tensor([22, 30, 38])\n",
      "\n"
     ]
    }
   ],
   "source": [
    "\"\"\"\n",
    "What if I want to double each element and sum each column?\n",
    "\n",
    "Vector-Matrix multiplication frames this as selecting the value of each column and combining them via addition (AKA the dot product).\n",
    "\n",
    "The following are equivalent:\n",
    "- \"Double each element and sum each column\"\n",
    "- For each column, return (2 * col[0]) + (2 * col[1]) + (2 * col[2])\n",
    "\"\"\"\n",
    "\n",
    "f3 = torch.tensor([2, 2, 2])\n",
    "\n",
    "result = f3 @ X\n",
    "\n",
    "show(\"X:\", X)\n",
    "show(\"f3 @ X:\", result)"
   ]
  },
  {
   "cell_type": "markdown",
   "metadata": {
    "id": "gdL1lxQyID0P"
   },
   "source": [
    "### Matrix-Matrix Multiplication is Batch Function Application\n",
    "\n",
    "(M, N) @ (N, K) => (M, K)\n",
    "\n",
    "F @ X == F(X)\n",
    "\n",
    "Where:\n",
    "- F is a matrix (shape (M, N))\n",
    "- X is a matrix (shape (N, K))\n",
    "\n",
    "Each row of F is a vector (function!) that acts on the columns of X"
   ]
  },
  {
   "cell_type": "code",
   "execution_count": 6,
   "metadata": {
    "colab": {
     "base_uri": "https://localhost:8080/"
    },
    "id": "U9Pe_qjtID0Q",
    "outputId": "c7c07d03-c49a-41cd-9817-bb1cf0bdf0f6"
   },
   "outputs": [
    {
     "name": "stdout",
     "output_type": "stream",
     "text": [
      "X:\n",
      "tensor([[4, 9, 3],\n",
      "        [0, 3, 9],\n",
      "        [7, 3, 7]])\n",
      "\n",
      "F:\n",
      "tensor([[1, 0, 0],\n",
      "        [0, 1, 0],\n",
      "        [2, 2, 2]])\n",
      "\n",
      "F @ X:\n",
      "tensor([[ 4,  9,  3],\n",
      "        [ 0,  3,  9],\n",
      "        [22, 30, 38]])\n",
      "\n"
     ]
    }
   ],
   "source": [
    "\"\"\"\n",
    "What if I want to apply multiple operations at once?\n",
    "\n",
    "For demonstration, let's apply all the operations from the Vector-Matrix section simultaneously. This can be done easily by stacking row vectors into a matrix.\n",
    "\n",
    "Each row of the first matrix applies its transformation to all columns of the second.\n",
    "\"\"\"\n",
    "\n",
    "F = torch.stack(\n",
    "    [\n",
    "        f1,\n",
    "        f2,\n",
    "        f3,\n",
    "    ]\n",
    ")\n",
    "\n",
    "result = F @ X\n",
    "\n",
    "show(\"X:\", X)\n",
    "show(\"F:\", F)\n",
    "show(\"F @ X:\", result)"
   ]
  }
 ],
 "metadata": {
  "colab": {
   "provenance": []
  },
  "kernelspec": {
   "display_name": ".venv",
   "language": "python",
   "name": "python3"
  },
  "language_info": {
   "codemirror_mode": {
    "name": "ipython",
    "version": 3
   },
   "file_extension": ".py",
   "mimetype": "text/x-python",
   "name": "python",
   "nbconvert_exporter": "python",
   "pygments_lexer": "ipython3",
   "version": "3.12.8"
  }
 },
 "nbformat": 4,
 "nbformat_minor": 0
}
